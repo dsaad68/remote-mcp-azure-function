{
 "cells": [
  {
   "cell_type": "code",
   "execution_count": 20,
   "id": "79e5987e",
   "metadata": {},
   "outputs": [],
   "source": [
    "import os\n",
    "from textwrap import dedent\n",
    "\n",
    "from dotenv import load_dotenv\n",
    "from IPython.display import Markdown\n",
    "from pydantic_ai import Agent\n",
    "from pydantic_ai.mcp import MCPServerHTTP"
   ]
  },
  {
   "cell_type": "markdown",
   "id": "97c5e2d8",
   "metadata": {},
   "source": [
    "##### Instructions for Setting Up Environment Variables\n",
    "\n",
    "To ensure the proper functioning of the notebook, you need to add the following environment variables to a `.env` file located in the same folder as this Jupyter Notebook:\n",
    "\n",
    "1. **AZ_FUNCTION_NAME**: This should be the name of your Azure Function.\n",
    "2. **AZ_FUNC_MCP_EXTENSION_SYSTEM_KEY**: This should be the system key for the MCP extension of your Azure Function.\n",
    "\n",
    "The `.env` file should look like `sample.env` file.\n",
    "\n",
    "> *NOTE*: In the README file, it is explained how to obtain the system key for the MCP extension."
   ]
  },
  {
   "cell_type": "code",
   "execution_count": 21,
   "id": "61fa0935",
   "metadata": {},
   "outputs": [],
   "source": [
    "# Load environment variables from .env file\n",
    "load_dotenv()\n",
    "\n",
    "# Extract variables\n",
    "AZ_FUNCTION_NAME = os.getenv('AZ_FUNCTION_NAME')\n",
    "AZ_FUNC_MCP_EXTENSION_SYSTEM_KEY = os.getenv('AZ_FUNC_MCP_EXTENSION_SYSTEM_KEY')\n",
    "\n",
    "# Declare Azure Function MCP URL\n",
    "az_func_url = f\"https://{AZ_FUNCTION_NAME}.azurewebsites.net/runtime/webhooks/mcp/sse?code={AZ_FUNC_MCP_EXTENSION_SYSTEM_KEY}\""
   ]
  },
  {
   "cell_type": "code",
   "execution_count": 22,
   "id": "2fb648fa",
   "metadata": {},
   "outputs": [],
   "source": [
    "# Create an MCP server instance\n",
    "server = MCPServerHTTP(url=az_func_url)\n",
    "\n",
    "# Create an agent with the MCP server\n",
    "agent = Agent(\n",
    "            \"openai:gpt-4o\",\n",
    "            mcp_servers=[server],\n",
    "            system_prompt=dedent(\"\"\"\n",
    "            You are a financial analysis agent.\n",
    "\n",
    "            Analyze a company's income statement, balance sheet, cash flow, and earnings.\n",
    "            Generate a concise report summarizing the company's financial overview.\n",
    "            \"\"\"),\n",
    "            )"
   ]
  },
  {
   "cell_type": "code",
   "execution_count": 23,
   "id": "74e928e9",
   "metadata": {},
   "outputs": [],
   "source": [
    "user_prompt = \"Create a financial overview of the following company just with cash flow and balance sheet: IBM.\"\n",
    "\n",
    "async with agent.run_mcp_servers():\n",
    "    result = await agent.run(user_prompt)"
   ]
  },
  {
   "cell_type": "code",
   "execution_count": 24,
   "id": "e2e66624",
   "metadata": {},
   "outputs": [
    {
     "data": {
      "text/markdown": [
       "### Financial Overview of IBM\n",
       "\n",
       "#### Balance Sheet Overview (as of the latest report)\n",
       "\n",
       "- **Total Assets**: The company's total assets have shown a steady increase over the years, standing at approximately $137.18 billion for the fiscal year ending in 2024. This includes current assets of $34.48 billion and non-current assets of $102.69 billion.\n",
       "  \n",
       "- **Cash and Cash Equivalents**: IBM reported cash and cash equivalents of $13.95 billion. This signifies adequate short-term liquidity for covering immediate operational needs.\n",
       "  \n",
       "- **Liabilities and Equity**: Total liabilities amount to $109.78 billion, with current liabilities making up $33.14 billion. IBM's total shareholder equity stands at $27.31 billion, illustrating a solid capital base.\n",
       "\n",
       "#### Cash Flow Overview (as of the latest report)\n",
       "\n",
       "- **Operating Cash Flow**: For the fiscal year ending 2024, IBM generated $13.45 billion in operating cash flow, demonstrating strong operational efficiency and cash-generating capability.\n",
       "  \n",
       "- **Capital Expenditures**: The company reported capital expenditures of $1.685 billion, indicating ongoing investment in growth and maintenance of assets.\n",
       "  \n",
       "- **Financing Activities**: IBM's cash outflow from financing activities was $7.079 billion, primarily due to dividend payments of $6.147 billion, illustrating a strong commitment to returning value to shareholders.\n",
       "\n",
       "- **Net Income**: The reported net income was $6.023 billion for the fiscal year ending 2024, reflecting strong profitability.\n",
       "\n",
       "### Summary\n",
       "\n",
       "IBM maintains a robust financial position with steadily increasing assets and prudent management of liabilities. The company's strong operating cash flows and disciplined capital expenditure management reflect its ability to support growth while rewarding shareholders through substantial dividend payouts. Overall, IBM's balance sheet and cash flow statements underscore its financial strength and stability."
      ],
      "text/plain": [
       "<IPython.core.display.Markdown object>"
      ]
     },
     "execution_count": 24,
     "metadata": {},
     "output_type": "execute_result"
    }
   ],
   "source": [
    "Markdown(result.data)"
   ]
  }
 ],
 "metadata": {
  "kernelspec": {
   "display_name": ".venv",
   "language": "python",
   "name": "python3"
  },
  "language_info": {
   "codemirror_mode": {
    "name": "ipython",
    "version": 3
   },
   "file_extension": ".py",
   "mimetype": "text/x-python",
   "name": "python",
   "nbconvert_exporter": "python",
   "pygments_lexer": "ipython3",
   "version": "3.11.11"
  }
 },
 "nbformat": 4,
 "nbformat_minor": 5
}
